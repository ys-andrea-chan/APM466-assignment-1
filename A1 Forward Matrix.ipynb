{
 "cells": [
  {
   "cell_type": "code",
   "execution_count": 11,
   "id": "8c3532c4",
   "metadata": {},
   "outputs": [],
   "source": [
    "import pandas as pd\n",
    "import numpy as np\n",
    "import scipy.optimize as optimize\n",
    "import seaborn as sn\n",
    "import matplotlib.pyplot as plt\n",
    "import qeds\n",
    "%matplotlib inline\n",
    "import os\n",
    "import math\n",
    "import qeds\n",
    "qeds.themes.mpl_style();\n",
    "\n",
    "from IPython.display import display\n",
    "import statistics"
   ]
  },
  {
   "cell_type": "code",
   "execution_count": 3,
   "id": "4260dadc",
   "metadata": {},
   "outputs": [
    {
     "data": {
      "text/html": [
       "<div>\n",
       "<style scoped>\n",
       "    .dataframe tbody tr th:only-of-type {\n",
       "        vertical-align: middle;\n",
       "    }\n",
       "\n",
       "    .dataframe tbody tr th {\n",
       "        vertical-align: top;\n",
       "    }\n",
       "\n",
       "    .dataframe thead th {\n",
       "        text-align: right;\n",
       "    }\n",
       "</style>\n",
       "<table border=\"1\" class=\"dataframe\">\n",
       "  <thead>\n",
       "    <tr style=\"text-align: right;\">\n",
       "      <th></th>\n",
       "      <th>1</th>\n",
       "      <th>2</th>\n",
       "      <th>3</th>\n",
       "      <th>4</th>\n",
       "    </tr>\n",
       "  </thead>\n",
       "  <tbody>\n",
       "    <tr>\n",
       "      <th>0</th>\n",
       "      <td>0.01107</td>\n",
       "      <td>0.01634</td>\n",
       "      <td>0.02930</td>\n",
       "      <td>0.01876</td>\n",
       "    </tr>\n",
       "    <tr>\n",
       "      <th>1</th>\n",
       "      <td>0.01060</td>\n",
       "      <td>0.01598</td>\n",
       "      <td>0.02895</td>\n",
       "      <td>0.01851</td>\n",
       "    </tr>\n",
       "    <tr>\n",
       "      <th>2</th>\n",
       "      <td>0.01133</td>\n",
       "      <td>0.01645</td>\n",
       "      <td>0.02926</td>\n",
       "      <td>0.01880</td>\n",
       "    </tr>\n",
       "    <tr>\n",
       "      <th>3</th>\n",
       "      <td>0.01156</td>\n",
       "      <td>0.01652</td>\n",
       "      <td>0.02917</td>\n",
       "      <td>0.01869</td>\n",
       "    </tr>\n",
       "    <tr>\n",
       "      <th>4</th>\n",
       "      <td>0.01179</td>\n",
       "      <td>0.01694</td>\n",
       "      <td>0.02948</td>\n",
       "      <td>0.01900</td>\n",
       "    </tr>\n",
       "    <tr>\n",
       "      <th>5</th>\n",
       "      <td>0.01279</td>\n",
       "      <td>0.01781</td>\n",
       "      <td>0.01967</td>\n",
       "      <td>0.01984</td>\n",
       "    </tr>\n",
       "    <tr>\n",
       "      <th>6</th>\n",
       "      <td>0.01304</td>\n",
       "      <td>0.01819</td>\n",
       "      <td>0.03093</td>\n",
       "      <td>0.02034</td>\n",
       "    </tr>\n",
       "    <tr>\n",
       "      <th>7</th>\n",
       "      <td>0.01286</td>\n",
       "      <td>0.01817</td>\n",
       "      <td>0.03100</td>\n",
       "      <td>0.02043</td>\n",
       "    </tr>\n",
       "    <tr>\n",
       "      <th>8</th>\n",
       "      <td>0.01350</td>\n",
       "      <td>0.01848</td>\n",
       "      <td>0.03112</td>\n",
       "      <td>0.02053</td>\n",
       "    </tr>\n",
       "    <tr>\n",
       "      <th>9</th>\n",
       "      <td>0.01332</td>\n",
       "      <td>0.01798</td>\n",
       "      <td>0.03069</td>\n",
       "      <td>0.02001</td>\n",
       "    </tr>\n",
       "  </tbody>\n",
       "</table>\n",
       "</div>"
      ],
      "text/plain": [
       "         1        2        3        4\n",
       "0  0.01107  0.01634  0.02930  0.01876\n",
       "1  0.01060  0.01598  0.02895  0.01851\n",
       "2  0.01133  0.01645  0.02926  0.01880\n",
       "3  0.01156  0.01652  0.02917  0.01869\n",
       "4  0.01179  0.01694  0.02948  0.01900\n",
       "5  0.01279  0.01781  0.01967  0.01984\n",
       "6  0.01304  0.01819  0.03093  0.02034\n",
       "7  0.01286  0.01817  0.03100  0.02043\n",
       "8  0.01350  0.01848  0.03112  0.02053\n",
       "9  0.01332  0.01798  0.03069  0.02001"
      ]
     },
     "execution_count": 3,
     "metadata": {},
     "output_type": "execute_result"
    }
   ],
   "source": [
    "fwd = pd.read_csv('Forward_data.csv')\n",
    "fwd"
   ]
  },
  {
   "cell_type": "code",
   "execution_count": 4,
   "id": "c4b2d15b",
   "metadata": {},
   "outputs": [],
   "source": [
    "def lst(df, grp):\n",
    "    y = df[grp].values.tolist()\n",
    "    return y\n",
    "\n",
    "\n",
    "_1yr_1yr = lst(fwd, \"1\")\n",
    "_1yr_2yr = lst(fwd, \"2\")\n",
    "_1yr_3yr = lst(fwd, \"3\")\n",
    "_1yr_4yr = lst(fwd, \"4\")\n",
    "\n",
    "\n",
    "fwdr = [_1yr_1yr,_1yr_2yr,_1yr_3yr,_1yr_4yr]"
   ]
  },
  {
   "cell_type": "code",
   "execution_count": 6,
   "id": "5b42c558",
   "metadata": {},
   "outputs": [],
   "source": [
    "log_f = []\n",
    "for f_yr in fwdr:\n",
    "    x_lst = []\n",
    "    for i in range(9):\n",
    "        x = math.log(f_yr[i+1]/f_yr[i])\n",
    "        x_lst.append(x)\n",
    "    log_f.append(x_lst)"
   ]
  },
  {
   "cell_type": "code",
   "execution_count": 7,
   "id": "5f422654",
   "metadata": {},
   "outputs": [],
   "source": [
    "log_f_dict = {\"log 1yr-1yr\": log_f[0], \"log 1yr-2yr\": log_f[1], \"log 1yr-3yr\": log_f[2], \"log 1yr-4yr\": log_f[3]}\n",
    "\n",
    "log_f_df = pd.DataFrame(log_f_dict)"
   ]
  },
  {
   "cell_type": "code",
   "execution_count": 8,
   "id": "04ebe603",
   "metadata": {},
   "outputs": [
    {
     "data": {
      "text/html": [
       "<div>\n",
       "<style scoped>\n",
       "    .dataframe tbody tr th:only-of-type {\n",
       "        vertical-align: middle;\n",
       "    }\n",
       "\n",
       "    .dataframe tbody tr th {\n",
       "        vertical-align: top;\n",
       "    }\n",
       "\n",
       "    .dataframe thead th {\n",
       "        text-align: right;\n",
       "    }\n",
       "</style>\n",
       "<table border=\"1\" class=\"dataframe\">\n",
       "  <thead>\n",
       "    <tr style=\"text-align: right;\">\n",
       "      <th></th>\n",
       "      <th>log 1yr-1yr</th>\n",
       "      <th>log 1yr-2yr</th>\n",
       "      <th>log 1yr-3yr</th>\n",
       "      <th>log 1yr-4yr</th>\n",
       "    </tr>\n",
       "  </thead>\n",
       "  <tbody>\n",
       "    <tr>\n",
       "      <th>log 1yr-1yr</th>\n",
       "      <td>0.001630</td>\n",
       "      <td>0.000900</td>\n",
       "      <td>-0.002926</td>\n",
       "      <td>0.000628</td>\n",
       "    </tr>\n",
       "    <tr>\n",
       "      <th>log 1yr-2yr</th>\n",
       "      <td>0.000900</td>\n",
       "      <td>0.000620</td>\n",
       "      <td>-0.001241</td>\n",
       "      <td>0.000491</td>\n",
       "    </tr>\n",
       "    <tr>\n",
       "      <th>log 1yr-3yr</th>\n",
       "      <td>-0.002926</td>\n",
       "      <td>-0.001241</td>\n",
       "      <td>0.046118</td>\n",
       "      <td>-0.000708</td>\n",
       "    </tr>\n",
       "    <tr>\n",
       "      <th>log 1yr-4yr</th>\n",
       "      <td>0.000628</td>\n",
       "      <td>0.000491</td>\n",
       "      <td>-0.000708</td>\n",
       "      <td>0.000432</td>\n",
       "    </tr>\n",
       "  </tbody>\n",
       "</table>\n",
       "</div>"
      ],
      "text/plain": [
       "             log 1yr-1yr  log 1yr-2yr  log 1yr-3yr  log 1yr-4yr\n",
       "log 1yr-1yr     0.001630     0.000900    -0.002926     0.000628\n",
       "log 1yr-2yr     0.000900     0.000620    -0.001241     0.000491\n",
       "log 1yr-3yr    -0.002926    -0.001241     0.046118    -0.000708\n",
       "log 1yr-4yr     0.000628     0.000491    -0.000708     0.000432"
      ]
     },
     "execution_count": 8,
     "metadata": {},
     "output_type": "execute_result"
    }
   ],
   "source": [
    "log_f_df.cov()"
   ]
  },
  {
   "cell_type": "code",
   "execution_count": 9,
   "id": "2da2fbd3",
   "metadata": {},
   "outputs": [
    {
     "data": {
      "text/plain": [
       "array([[ 0.0014,  0.0008, -0.0026,  0.0006],\n",
       "       [ 0.0008,  0.0006, -0.0011,  0.0004],\n",
       "       [-0.0026, -0.0011,  0.041 , -0.0006],\n",
       "       [ 0.0006,  0.0004, -0.0006,  0.0004]])"
      ]
     },
     "execution_count": 9,
     "metadata": {},
     "output_type": "execute_result"
    }
   ],
   "source": [
    "data = np.array(log_f)\n",
    "covMatrix = np.cov(data,bias=True)\n",
    "covM = np.around(covMatrix, decimals=4)\n",
    "covM"
   ]
  },
  {
   "cell_type": "code",
   "execution_count": 12,
   "id": "6a142e55",
   "metadata": {},
   "outputs": [
    {
     "data": {
      "image/png": "[encoded data removed]",
      "text/plain": [
       "<Figure size 432x288 with 2 Axes>"
      ]
     },
     "metadata": {},
     "output_type": "display_data"
    }
   ],
   "source": [
    "ax = plt.subplot()\n",
    "sn.heatmap(covM, annot=True, cmap=\"Reds\", fmt='g')\n",
    "sn.set(font_scale=1)\n",
    "ax.set_title('Forward Rate Covariance Matrix');\n",
    "ax.xaxis.set_ticklabels([\"1yr-1yr\", \"1yr-2yr\", \"1yr-3yr\", \"1yr-4yr\"]);\n",
    "ax.yaxis.set_ticklabels([\"1yr-1yr\", \"1yr-2yr\", \"1yr-3yr\", \"1yr-4yr\"]);\n",
    "plt.show()"
   ]
  },
  {
   "cell_type": "code",
   "execution_count": 17,
   "id": "52b631bc",
   "metadata": {},
   "outputs": [
    {
     "data": {
      "text/plain": [
       "(array([4.12128815e-02, 1.98424428e-03, 1.18652943e-04, 8.42212583e-05]),\n",
       " array([[ 6.59403413e-02,  7.69146666e-01, -6.12514848e-01,\n",
       "          1.69973052e-01],\n",
       "        [ 2.84672183e-02,  5.00686050e-01,  4.22237426e-01,\n",
       "         -7.55128236e-01],\n",
       "        [-9.97290513e-01,  7.13800013e-02, -1.77899508e-02,\n",
       "         -2.15458592e-04],\n",
       "        [ 1.59098151e-02,  3.90681176e-01,  6.68000475e-01,\n",
       "          6.33159113e-01]]))"
      ]
     },
     "execution_count": 17,
     "metadata": {},
     "output_type": "execute_result"
    }
   ],
   "source": [
    "np.linalg.eig(covM)"
   ]
  },
  {
   "cell_type": "code",
   "execution_count": 28,
   "id": "6fac3728",
   "metadata": {},
   "outputs": [],
   "source": [
    "solution = np.linalg.eig(covM)\n",
    "eigenValues = solution[0]\n",
    "eigenVectors = solution[1]\n",
    "np. set_printoptions(suppress=True)"
   ]
  },
  {
   "cell_type": "code",
   "execution_count": 29,
   "id": "df867f0f",
   "metadata": {},
   "outputs": [
    {
     "data": {
      "text/plain": [
       "array([0.04121, 0.00198, 0.00012, 0.00008])"
      ]
     },
     "execution_count": 29,
     "metadata": {},
     "output_type": "execute_result"
    }
   ],
   "source": [
    "values = np.around(eigenValues, decimals=5)\n",
    "values"
   ]
  },
  {
   "cell_type": "code",
   "execution_count": 30,
   "id": "77ce2fe5",
   "metadata": {},
   "outputs": [
    {
     "data": {
      "text/plain": [
       "array([[ 0.06594,  0.76915, -0.61251,  0.16997],\n",
       "       [ 0.02847,  0.50069,  0.42224, -0.75513],\n",
       "       [-0.99729,  0.07138, -0.01779, -0.00022],\n",
       "       [ 0.01591,  0.39068,  0.668  ,  0.63316]])"
      ]
     },
     "execution_count": 30,
     "metadata": {},
     "output_type": "execute_result"
    }
   ],
   "source": [
    "vectors = np.around(eigenVectors, decimals=5)\n",
    "vectors"
   ]
  },
  {
   "cell_type": "markdown",
   "id": "6053c8c0",
   "metadata": {},
   "source": []
  }
 ],
 "metadata": {
  "kernelspec": {
   "display_name": "Python 3 (ipykernel)",
   "language": "python",
   "name": "python3"
  },
  "language_info": {
   "codemirror_mode": {
    "name": "ipython",
    "version": 3
   },
   "file_extension": ".py",
   "mimetype": "text/x-python",
   "name": "python",
   "nbconvert_exporter": "python",
   "pygments_lexer": "ipython3",
   "version": "3.9.7"
  }
 },
 "nbformat": 4,
 "nbformat_minor": 5
}
