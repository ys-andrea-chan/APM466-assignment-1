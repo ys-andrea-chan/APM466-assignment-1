{
 "cells": [
  {
   "cell_type": "code",
   "execution_count": 1,
   "id": "c61c2ec8",
   "metadata": {},
   "outputs": [],
   "source": [
    "import pandas as pd\n",
    "import numpy as np\n",
    "import scipy.optimize as optimize\n",
    "import seaborn as sn\n",
    "import matplotlib.pyplot as plt\n",
    "import qeds\n",
    "%matplotlib inline\n",
    "import os\n",
    "import math\n",
    "import qeds\n",
    "qeds.themes.mpl_style();\n",
    "\n",
    "from IPython.display import display\n",
    "import statistics"
   ]
  },
  {
   "cell_type": "code",
   "execution_count": 2,
   "id": "464fccf5",
   "metadata": {},
   "outputs": [
    {
     "data": {
      "text/html": [
       "<div>\n",
       "<style scoped>\n",
       "    .dataframe tbody tr th:only-of-type {\n",
       "        vertical-align: middle;\n",
       "    }\n",
       "\n",
       "    .dataframe tbody tr th {\n",
       "        vertical-align: top;\n",
       "    }\n",
       "\n",
       "    .dataframe thead th {\n",
       "        text-align: right;\n",
       "    }\n",
       "</style>\n",
       "<table border=\"1\" class=\"dataframe\">\n",
       "  <thead>\n",
       "    <tr style=\"text-align: right;\">\n",
       "      <th></th>\n",
       "      <th>1</th>\n",
       "      <th>2</th>\n",
       "      <th>3</th>\n",
       "      <th>4</th>\n",
       "      <th>5</th>\n",
       "    </tr>\n",
       "  </thead>\n",
       "  <tbody>\n",
       "    <tr>\n",
       "      <th>0</th>\n",
       "      <td>0.0113</td>\n",
       "      <td>0.0112</td>\n",
       "      <td>0.0146</td>\n",
       "      <td>0.0247</td>\n",
       "      <td>0.0172</td>\n",
       "    </tr>\n",
       "    <tr>\n",
       "      <th>1</th>\n",
       "      <td>0.0118</td>\n",
       "      <td>0.0112</td>\n",
       "      <td>0.0146</td>\n",
       "      <td>0.0246</td>\n",
       "      <td>0.0171</td>\n",
       "    </tr>\n",
       "    <tr>\n",
       "      <th>2</th>\n",
       "      <td>0.0116</td>\n",
       "      <td>0.0115</td>\n",
       "      <td>0.0148</td>\n",
       "      <td>0.0247</td>\n",
       "      <td>0.0173</td>\n",
       "    </tr>\n",
       "    <tr>\n",
       "      <th>3</th>\n",
       "      <td>0.0118</td>\n",
       "      <td>0.0117</td>\n",
       "      <td>0.0149</td>\n",
       "      <td>0.0247</td>\n",
       "      <td>0.0173</td>\n",
       "    </tr>\n",
       "    <tr>\n",
       "      <th>4</th>\n",
       "      <td>0.0120</td>\n",
       "      <td>0.0119</td>\n",
       "      <td>0.0153</td>\n",
       "      <td>0.0250</td>\n",
       "      <td>0.0176</td>\n",
       "    </tr>\n",
       "    <tr>\n",
       "      <th>5</th>\n",
       "      <td>0.0130</td>\n",
       "      <td>0.0129</td>\n",
       "      <td>0.0162</td>\n",
       "      <td>0.0180</td>\n",
       "      <td>0.0184</td>\n",
       "    </tr>\n",
       "    <tr>\n",
       "      <th>6</th>\n",
       "      <td>0.0136</td>\n",
       "      <td>0.0133</td>\n",
       "      <td>0.0167</td>\n",
       "      <td>0.0266</td>\n",
       "      <td>0.0190</td>\n",
       "    </tr>\n",
       "    <tr>\n",
       "      <th>7</th>\n",
       "      <td>0.0139</td>\n",
       "      <td>0.0134</td>\n",
       "      <td>0.0167</td>\n",
       "      <td>0.0267</td>\n",
       "      <td>0.0191</td>\n",
       "    </tr>\n",
       "    <tr>\n",
       "      <th>8</th>\n",
       "      <td>0.0135</td>\n",
       "      <td>0.0135</td>\n",
       "      <td>0.0168</td>\n",
       "      <td>0.0267</td>\n",
       "      <td>0.0191</td>\n",
       "    </tr>\n",
       "    <tr>\n",
       "      <th>9</th>\n",
       "      <td>0.0130</td>\n",
       "      <td>0.0132</td>\n",
       "      <td>0.0163</td>\n",
       "      <td>0.0263</td>\n",
       "      <td>0.0186</td>\n",
       "    </tr>\n",
       "  </tbody>\n",
       "</table>\n",
       "</div>"
      ],
      "text/plain": [
       "        1       2       3       4       5\n",
       "0  0.0113  0.0112  0.0146  0.0247  0.0172\n",
       "1  0.0118  0.0112  0.0146  0.0246  0.0171\n",
       "2  0.0116  0.0115  0.0148  0.0247  0.0173\n",
       "3  0.0118  0.0117  0.0149  0.0247  0.0173\n",
       "4  0.0120  0.0119  0.0153  0.0250  0.0176\n",
       "5  0.0130  0.0129  0.0162  0.0180  0.0184\n",
       "6  0.0136  0.0133  0.0167  0.0266  0.0190\n",
       "7  0.0139  0.0134  0.0167  0.0267  0.0191\n",
       "8  0.0135  0.0135  0.0168  0.0267  0.0191\n",
       "9  0.0130  0.0132  0.0163  0.0263  0.0186"
      ]
     },
     "execution_count": 2,
     "metadata": {},
     "output_type": "execute_result"
    }
   ],
   "source": [
    "spot = pd.read_csv('Spot_data.csv')\n",
    "spot"
   ]
  },
  {
   "cell_type": "code",
   "execution_count": 3,
   "id": "4ece871a",
   "metadata": {},
   "outputs": [],
   "source": [
    "def lst(df, grp):\n",
    "    y = df[grp].values.tolist()\n",
    "    return y\n",
    "\n",
    "\n",
    "sp1yr = lst(spot, \"1\")\n",
    "sp2yr = lst(spot, \"2\")\n",
    "sp3yr = lst(spot, \"3\")\n",
    "sp4yr = lst(spot, \"4\")\n",
    "sp5yr = lst(spot, \"5\")\n",
    "\n",
    "\n",
    "dates = [\"Jan 10\",\"Jan 11\",\"Jan 12\",\"Jan 13\",\"Jan 14\",\"Jan 17\",\"Jan 18\",\"Jan 19\",\"Jan 20\",\"Jan 21\"]\n",
    "r = [sp1yr,sp2yr,sp3yr,sp4yr,sp5yr]"
   ]
  },
  {
   "cell_type": "code",
   "execution_count": 4,
   "id": "f4cb45f8",
   "metadata": {},
   "outputs": [
    {
     "data": {
      "text/plain": [
       "[[0.0433,\n",
       "  -0.01709,\n",
       "  0.01709,\n",
       "  0.01681,\n",
       "  0.08004,\n",
       "  0.04512,\n",
       "  0.02182,\n",
       "  -0.0292,\n",
       "  -0.03774],\n",
       " [0.0,\n",
       "  0.02643,\n",
       "  0.01724,\n",
       "  0.01695,\n",
       "  0.08069,\n",
       "  0.03054,\n",
       "  0.00749,\n",
       "  0.00743,\n",
       "  -0.02247],\n",
       " [0.0, 0.01361, 0.00673, 0.02649, 0.05716, 0.0304, 0.0, 0.00597, -0.03021],\n",
       " [-0.00406, 0.00406, 0.0, 0.01207, -0.3285, 0.39054, 0.00375, 0.0, -0.01509],\n",
       " [-0.00583, 0.01163, 0.0, 0.01719, 0.04445, 0.03209, 0.00525, 0.0, -0.02653]]"
      ]
     },
     "execution_count": 4,
     "metadata": {},
     "output_type": "execute_result"
    }
   ],
   "source": [
    "log_r = []\n",
    "for r_yr in r:\n",
    "    x_lst = []\n",
    "    for i in range(9):\n",
    "        x = math.log(r_yr[i+1]/r_yr[i])\n",
    "        x_lst.append(x)\n",
    "    xl = [round(elem, 5) for elem in x_lst]\n",
    "    log_r.append(xl)\n",
    "\n",
    "log_r"
   ]
  },
  {
   "cell_type": "code",
   "execution_count": 5,
   "id": "0918b79f",
   "metadata": {},
   "outputs": [],
   "source": [
    "log_r_1yr = log_r[0]\n",
    "log_r_2yr = log_r[1]\n",
    "log_r_3yr = log_r[2]\n",
    "log_r_4yr = log_r[3]\n",
    "log_r_5yr = log_r[4]"
   ]
  },
  {
   "cell_type": "code",
   "execution_count": 10,
   "id": "5e320d1c",
   "metadata": {},
   "outputs": [
    {
     "data": {
      "text/plain": [
       "array([[ 0.0013,  0.0007,  0.0006, -0.001 ,  0.0005],\n",
       "       [ 0.0007,  0.0007,  0.0006, -0.0017,  0.0005],\n",
       "       [ 0.0006,  0.0006,  0.0005, -0.0008,  0.0004],\n",
       "       [-0.001 , -0.0017, -0.0008,  0.0289, -0.0002],\n",
       "       [ 0.0005,  0.0005,  0.0004, -0.0002,  0.0004]])"
      ]
     },
     "execution_count": 10,
     "metadata": {},
     "output_type": "execute_result"
    }
   ],
   "source": [
    "data = np.array(log_r)\n",
    "covMatrix = np.cov(data,bias=True)\n",
    "covM = np.around(covMatrix, decimals=4)\n",
    "covM"
   ]
  },
  {
   "cell_type": "code",
   "execution_count": 17,
   "id": "ba894279",
   "metadata": {},
   "outputs": [
    {
     "data": {
      "image/png": "[encoded data removed]",
      "text/plain": [
       "<Figure size 432x288 with 2 Axes>"
      ]
     },
     "metadata": {},
     "output_type": "display_data"
    }
   ],
   "source": [
    "ax = plt.subplot()\n",
    "sn.heatmap(covM, annot=True, cmap=\"Blues\", fmt='g')\n",
    "sn.set(font_scale=1)\n",
    "ax.set_title('Yield Covariance Matrix');\n",
    "ax.xaxis.set_ticklabels([\"1yr\", \"2yr\", \"3yr\", \"4yr\",\"5yr\"]);\n",
    "ax.yaxis.set_ticklabels([\"1yr\", \"2yr\", \"3yr\", \"4yr\",\"5yr\"]);\n",
    "plt.show()"
   ]
  },
  {
   "cell_type": "code",
   "execution_count": 20,
   "id": "196645d8",
   "metadata": {},
   "outputs": [],
   "source": [
    "solution = np.linalg.eig(covM)"
   ]
  },
  {
   "cell_type": "code",
   "execution_count": 33,
   "id": "c38c2357",
   "metadata": {},
   "outputs": [],
   "source": [
    "eigenValues = solution[0]\n",
    "eigenVectors = solution[1]\n",
    "np. set_printoptions(suppress=True)"
   ]
  },
  {
   "cell_type": "code",
   "execution_count": 34,
   "id": "7e402dc3",
   "metadata": {},
   "outputs": [
    {
     "data": {
      "text/plain": [
       "array([ 0.02907,  0.00235,  0.00037,  0.00004, -0.00003])"
      ]
     },
     "execution_count": 34,
     "metadata": {},
     "output_type": "execute_result"
    }
   ],
   "source": [
    "values = np.around(eigenValues, decimals=5)\n",
    "values"
   ]
  },
  {
   "cell_type": "code",
   "execution_count": 35,
   "id": "e64ee145",
   "metadata": {},
   "outputs": [
    {
     "data": {
      "text/plain": [
       "array([[ 0.03826,  0.66998, -0.7409 , -0.02616, -0.00616],\n",
       "       [ 0.06148,  0.47763,  0.43849,  0.08106, -0.75448],\n",
       "       [ 0.03014,  0.42224,  0.35661,  0.63002,  0.5447 ],\n",
       "       [-0.99688,  0.07135,  0.0127 ,  0.01599, -0.02696],\n",
       "       [ 0.00911,  0.37365,  0.36257, -0.77173,  0.36509]])"
      ]
     },
     "execution_count": 35,
     "metadata": {},
     "output_type": "execute_result"
    }
   ],
   "source": [
    "vectors = np.around(eigenVectors, decimals=5)\n",
    "vectors"
   ]
  },
  {
   "cell_type": "code",
   "execution_count": null,
   "id": "4f615881",
   "metadata": {},
   "outputs": [],
   "source": []
  }
 ],
 "metadata": {
  "kernelspec": {
   "display_name": "Python 3 (ipykernel)",
   "language": "python",
   "name": "python3"
  },
  "language_info": {
   "codemirror_mode": {
    "name": "ipython",
    "version": 3
   },
   "file_extension": ".py",
   "mimetype": "text/x-python",
   "name": "python",
   "nbconvert_exporter": "python",
   "pygments_lexer": "ipython3",
   "version": "3.9.7"
  }
 },
 "nbformat": 4,
 "nbformat_minor": 5
}
